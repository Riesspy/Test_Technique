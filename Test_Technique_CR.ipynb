{
  "cells": [
    {
      "cell_type": "markdown",
      "metadata": {
        "id": "xPvR-6lMP_Nn"
      },
      "source": [
        "# Part I : Quel(le) data scientist êtes-vous ?\n",
        "## Contexte de l’analyse\n",
        "\n",
        "Elu métier le plus sexy par la Harvard Business Review en octobre 2012, le data scientist représente un profil rare qui exige de nombreuses compétences.\n",
        "\n",
        "A partir d'un dataset Aquila, vous réaliserez :\n",
        "- un clustering non supervisé afin d'identifier 2 groupes de profils techniques distinctes\n",
        "- une prédiction des profils dont le métier n'est pas labellisé\n",
        "\n",
        "\n",
        "## Données\n",
        "data.csv contient 6 variables : \n",
        "    - 'Entreprise' correspond à une liste d'entreprises fictive\n",
        "    - 'Metier' correspond au métier parmi data scientist, lead data scientist, data engineer et data architecte\n",
        "    - 'Technologies' correspond aux compétences maîtrisées par le profil\n",
        "    - 'Diplome' correspond à son niveau scolaire (Bac, Master, PhD,...)\n",
        "    - 'Experience' correspond au nombre d'années d'expériences\n",
        "    - 'Ville' correspond au lieu de travail\n",
        "    \n",
        "\n",
        "\n",
        "## Répondez aux questions \n",
        "\n",
        "Bonne chance!"
      ]
    },
    {
      "cell_type": "code",
      "execution_count": 2,
      "metadata": {
        "id": "Rn7pJBd0P_N2"
      },
      "outputs": [],
      "source": [
        "# Import des libraries classique (numpy, pandas, ...)\n",
        "import pandas as pd\n",
        "import numpy as np\n",
        "import re\n",
        "import sklearn as sk\n",
        "import seaborn as sb\n",
        "from matplotlib import pyplot as plt\n",
        "plt.style.use('ggplot')"
      ]
    },
    {
      "cell_type": "markdown",
      "metadata": {
        "id": "J3CY0uAzP_N7"
      },
      "source": [
        "### 1) Importer le tableau de données dans un dataframe "
      ]
    },
    {
      "cell_type": "code",
      "execution_count": 3,
      "metadata": {
        "id": "89q8kuB_P_N9"
      },
      "outputs": [],
      "source": [
        "# Import dataframe \"data.csv\"\n",
        "df = pd.read_csv('/content/data.csv')"
      ]
    },
    {
      "cell_type": "markdown",
      "metadata": {
        "id": "Vbjplas4P_N_"
      },
      "source": [
        "### 2) Combien y a t-il d'observations dans ce dataset? Y a t-il des valeurs manquantes? "
      ]
    },
    {
      "cell_type": "code",
      "execution_count": 4,
      "metadata": {
        "colab": {
          "base_uri": "https://localhost:8080/",
          "height": 606
        },
        "id": "LERe5XE4P_OA",
        "outputId": "8f29585a-8bfa-4abb-ec73-9b509528f83c"
      },
      "outputs": [
        {
          "output_type": "stream",
          "name": "stdout",
          "text": [
            "Number of rows : 9582\n",
            "\n",
            "Display of dataset: \n"
          ]
        },
        {
          "output_type": "display_data",
          "data": {
            "text/html": [
              "\n",
              "  <div id=\"df-37495e6a-8ac4-4fd6-ad65-be37c3a9e998\">\n",
              "    <div class=\"colab-df-container\">\n",
              "      <div>\n",
              "<style scoped>\n",
              "    .dataframe tbody tr th:only-of-type {\n",
              "        vertical-align: middle;\n",
              "    }\n",
              "\n",
              "    .dataframe tbody tr th {\n",
              "        vertical-align: top;\n",
              "    }\n",
              "\n",
              "    .dataframe thead th {\n",
              "        text-align: right;\n",
              "    }\n",
              "</style>\n",
              "<table border=\"1\" class=\"dataframe\">\n",
              "  <thead>\n",
              "    <tr style=\"text-align: right;\">\n",
              "      <th></th>\n",
              "      <th>Entreprise</th>\n",
              "      <th>Metier</th>\n",
              "      <th>Technologies</th>\n",
              "      <th>Diplome</th>\n",
              "      <th>Experience</th>\n",
              "      <th>Ville</th>\n",
              "    </tr>\n",
              "  </thead>\n",
              "  <tbody>\n",
              "    <tr>\n",
              "      <th>0</th>\n",
              "      <td>Sanofi</td>\n",
              "      <td>Data scientist</td>\n",
              "      <td>Matlab/Python/Pyspark/Scikit-learn/Tensorflow</td>\n",
              "      <td>Master</td>\n",
              "      <td>1</td>\n",
              "      <td>Paris</td>\n",
              "    </tr>\n",
              "    <tr>\n",
              "      <th>1</th>\n",
              "      <td>Massachusetts General Hospital(MGH)</td>\n",
              "      <td>Data architecte</td>\n",
              "      <td>Python/Java/Scala/MongoDB</td>\n",
              "      <td>Master</td>\n",
              "      <td>3</td>\n",
              "      <td>Marseille</td>\n",
              "    </tr>\n",
              "    <tr>\n",
              "      <th>2</th>\n",
              "      <td>Delve</td>\n",
              "      <td>Lead data scientist</td>\n",
              "      <td>SPSS/SQL/Teradata/R/Python/Tensorflow/scikit-l...</td>\n",
              "      <td>Master</td>\n",
              "      <td>3</td>\n",
              "      <td>Nantes</td>\n",
              "    </tr>\n",
              "    <tr>\n",
              "      <th>3</th>\n",
              "      <td>Ann &amp; Robert H. Lurie Children’s Hospital of C...</td>\n",
              "      <td>Data scientist</td>\n",
              "      <td>C/C++/Java/Python</td>\n",
              "      <td>Master</td>\n",
              "      <td>1,5</td>\n",
              "      <td>Marseille</td>\n",
              "    </tr>\n",
              "    <tr>\n",
              "      <th>4</th>\n",
              "      <td>Arm</td>\n",
              "      <td>Data scientist</td>\n",
              "      <td>Matlab/Python/C++/numpy/Tensorflow/scikit-learn</td>\n",
              "      <td>Phd</td>\n",
              "      <td>NaN</td>\n",
              "      <td>Bordeaux</td>\n",
              "    </tr>\n",
              "  </tbody>\n",
              "</table>\n",
              "</div>\n",
              "      <button class=\"colab-df-convert\" onclick=\"convertToInteractive('df-37495e6a-8ac4-4fd6-ad65-be37c3a9e998')\"\n",
              "              title=\"Convert this dataframe to an interactive table.\"\n",
              "              style=\"display:none;\">\n",
              "        \n",
              "  <svg xmlns=\"http://www.w3.org/2000/svg\" height=\"24px\"viewBox=\"0 0 24 24\"\n",
              "       width=\"24px\">\n",
              "    <path d=\"M0 0h24v24H0V0z\" fill=\"none\"/>\n",
              "    <path d=\"M18.56 5.44l.94 2.06.94-2.06 2.06-.94-2.06-.94-.94-2.06-.94 2.06-2.06.94zm-11 1L8.5 8.5l.94-2.06 2.06-.94-2.06-.94L8.5 2.5l-.94 2.06-2.06.94zm10 10l.94 2.06.94-2.06 2.06-.94-2.06-.94-.94-2.06-.94 2.06-2.06.94z\"/><path d=\"M17.41 7.96l-1.37-1.37c-.4-.4-.92-.59-1.43-.59-.52 0-1.04.2-1.43.59L10.3 9.45l-7.72 7.72c-.78.78-.78 2.05 0 2.83L4 21.41c.39.39.9.59 1.41.59.51 0 1.02-.2 1.41-.59l7.78-7.78 2.81-2.81c.8-.78.8-2.07 0-2.86zM5.41 20L4 18.59l7.72-7.72 1.47 1.35L5.41 20z\"/>\n",
              "  </svg>\n",
              "      </button>\n",
              "      \n",
              "  <style>\n",
              "    .colab-df-container {\n",
              "      display:flex;\n",
              "      flex-wrap:wrap;\n",
              "      gap: 12px;\n",
              "    }\n",
              "\n",
              "    .colab-df-convert {\n",
              "      background-color: #E8F0FE;\n",
              "      border: none;\n",
              "      border-radius: 50%;\n",
              "      cursor: pointer;\n",
              "      display: none;\n",
              "      fill: #1967D2;\n",
              "      height: 32px;\n",
              "      padding: 0 0 0 0;\n",
              "      width: 32px;\n",
              "    }\n",
              "\n",
              "    .colab-df-convert:hover {\n",
              "      background-color: #E2EBFA;\n",
              "      box-shadow: 0px 1px 2px rgba(60, 64, 67, 0.3), 0px 1px 3px 1px rgba(60, 64, 67, 0.15);\n",
              "      fill: #174EA6;\n",
              "    }\n",
              "\n",
              "    [theme=dark] .colab-df-convert {\n",
              "      background-color: #3B4455;\n",
              "      fill: #D2E3FC;\n",
              "    }\n",
              "\n",
              "    [theme=dark] .colab-df-convert:hover {\n",
              "      background-color: #434B5C;\n",
              "      box-shadow: 0px 1px 3px 1px rgba(0, 0, 0, 0.15);\n",
              "      filter: drop-shadow(0px 1px 2px rgba(0, 0, 0, 0.3));\n",
              "      fill: #FFFFFF;\n",
              "    }\n",
              "  </style>\n",
              "\n",
              "      <script>\n",
              "        const buttonEl =\n",
              "          document.querySelector('#df-37495e6a-8ac4-4fd6-ad65-be37c3a9e998 button.colab-df-convert');\n",
              "        buttonEl.style.display =\n",
              "          google.colab.kernel.accessAllowed ? 'block' : 'none';\n",
              "\n",
              "        async function convertToInteractive(key) {\n",
              "          const element = document.querySelector('#df-37495e6a-8ac4-4fd6-ad65-be37c3a9e998');\n",
              "          const dataTable =\n",
              "            await google.colab.kernel.invokeFunction('convertToInteractive',\n",
              "                                                     [key], {});\n",
              "          if (!dataTable) return;\n",
              "\n",
              "          const docLinkHtml = 'Like what you see? Visit the ' +\n",
              "            '<a target=\"_blank\" href=https://colab.research.google.com/notebooks/data_table.ipynb>data table notebook</a>'\n",
              "            + ' to learn more about interactive tables.';\n",
              "          element.innerHTML = '';\n",
              "          dataTable['output_type'] = 'display_data';\n",
              "          await google.colab.output.renderOutput(dataTable, element);\n",
              "          const docLink = document.createElement('div');\n",
              "          docLink.innerHTML = docLinkHtml;\n",
              "          element.appendChild(docLink);\n",
              "        }\n",
              "      </script>\n",
              "    </div>\n",
              "  </div>\n",
              "  "
            ],
            "text/plain": [
              "                                          Entreprise  ...      Ville\n",
              "0                                             Sanofi  ...      Paris\n",
              "1                Massachusetts General Hospital(MGH)  ...  Marseille\n",
              "2                                              Delve  ...     Nantes\n",
              "3  Ann & Robert H. Lurie Children’s Hospital of C...  ...  Marseille\n",
              "4                                                Arm  ...   Bordeaux\n",
              "\n",
              "[5 rows x 6 columns]"
            ]
          },
          "metadata": {}
        },
        {
          "output_type": "stream",
          "name": "stdout",
          "text": [
            "\n",
            "Basics statistics: \n"
          ]
        },
        {
          "output_type": "display_data",
          "data": {
            "text/html": [
              "\n",
              "  <div id=\"df-297d85d4-bf59-4d76-93aa-35b55400d15c\">\n",
              "    <div class=\"colab-df-container\">\n",
              "      <div>\n",
              "<style scoped>\n",
              "    .dataframe tbody tr th:only-of-type {\n",
              "        vertical-align: middle;\n",
              "    }\n",
              "\n",
              "    .dataframe tbody tr th {\n",
              "        vertical-align: top;\n",
              "    }\n",
              "\n",
              "    .dataframe thead th {\n",
              "        text-align: right;\n",
              "    }\n",
              "</style>\n",
              "<table border=\"1\" class=\"dataframe\">\n",
              "  <thead>\n",
              "    <tr style=\"text-align: right;\">\n",
              "      <th></th>\n",
              "      <th>Entreprise</th>\n",
              "      <th>Metier</th>\n",
              "      <th>Technologies</th>\n",
              "      <th>Diplome</th>\n",
              "      <th>Experience</th>\n",
              "      <th>Ville</th>\n",
              "    </tr>\n",
              "  </thead>\n",
              "  <tbody>\n",
              "    <tr>\n",
              "      <th>count</th>\n",
              "      <td>9565</td>\n",
              "      <td>9563</td>\n",
              "      <td>9582</td>\n",
              "      <td>9582</td>\n",
              "      <td>9488</td>\n",
              "      <td>9582</td>\n",
              "    </tr>\n",
              "    <tr>\n",
              "      <th>unique</th>\n",
              "      <td>1382</td>\n",
              "      <td>4</td>\n",
              "      <td>57</td>\n",
              "      <td>4</td>\n",
              "      <td>21</td>\n",
              "      <td>14</td>\n",
              "    </tr>\n",
              "    <tr>\n",
              "      <th>top</th>\n",
              "      <td>Ball Aerospace</td>\n",
              "      <td>Data scientist</td>\n",
              "      <td>SQL/R/Python//Big data</td>\n",
              "      <td>Master</td>\n",
              "      <td>1,5</td>\n",
              "      <td>Paris</td>\n",
              "    </tr>\n",
              "    <tr>\n",
              "      <th>freq</th>\n",
              "      <td>748</td>\n",
              "      <td>3865</td>\n",
              "      <td>539</td>\n",
              "      <td>4971</td>\n",
              "      <td>1023</td>\n",
              "      <td>2015</td>\n",
              "    </tr>\n",
              "  </tbody>\n",
              "</table>\n",
              "</div>\n",
              "      <button class=\"colab-df-convert\" onclick=\"convertToInteractive('df-297d85d4-bf59-4d76-93aa-35b55400d15c')\"\n",
              "              title=\"Convert this dataframe to an interactive table.\"\n",
              "              style=\"display:none;\">\n",
              "        \n",
              "  <svg xmlns=\"http://www.w3.org/2000/svg\" height=\"24px\"viewBox=\"0 0 24 24\"\n",
              "       width=\"24px\">\n",
              "    <path d=\"M0 0h24v24H0V0z\" fill=\"none\"/>\n",
              "    <path d=\"M18.56 5.44l.94 2.06.94-2.06 2.06-.94-2.06-.94-.94-2.06-.94 2.06-2.06.94zm-11 1L8.5 8.5l.94-2.06 2.06-.94-2.06-.94L8.5 2.5l-.94 2.06-2.06.94zm10 10l.94 2.06.94-2.06 2.06-.94-2.06-.94-.94-2.06-.94 2.06-2.06.94z\"/><path d=\"M17.41 7.96l-1.37-1.37c-.4-.4-.92-.59-1.43-.59-.52 0-1.04.2-1.43.59L10.3 9.45l-7.72 7.72c-.78.78-.78 2.05 0 2.83L4 21.41c.39.39.9.59 1.41.59.51 0 1.02-.2 1.41-.59l7.78-7.78 2.81-2.81c.8-.78.8-2.07 0-2.86zM5.41 20L4 18.59l7.72-7.72 1.47 1.35L5.41 20z\"/>\n",
              "  </svg>\n",
              "      </button>\n",
              "      \n",
              "  <style>\n",
              "    .colab-df-container {\n",
              "      display:flex;\n",
              "      flex-wrap:wrap;\n",
              "      gap: 12px;\n",
              "    }\n",
              "\n",
              "    .colab-df-convert {\n",
              "      background-color: #E8F0FE;\n",
              "      border: none;\n",
              "      border-radius: 50%;\n",
              "      cursor: pointer;\n",
              "      display: none;\n",
              "      fill: #1967D2;\n",
              "      height: 32px;\n",
              "      padding: 0 0 0 0;\n",
              "      width: 32px;\n",
              "    }\n",
              "\n",
              "    .colab-df-convert:hover {\n",
              "      background-color: #E2EBFA;\n",
              "      box-shadow: 0px 1px 2px rgba(60, 64, 67, 0.3), 0px 1px 3px 1px rgba(60, 64, 67, 0.15);\n",
              "      fill: #174EA6;\n",
              "    }\n",
              "\n",
              "    [theme=dark] .colab-df-convert {\n",
              "      background-color: #3B4455;\n",
              "      fill: #D2E3FC;\n",
              "    }\n",
              "\n",
              "    [theme=dark] .colab-df-convert:hover {\n",
              "      background-color: #434B5C;\n",
              "      box-shadow: 0px 1px 3px 1px rgba(0, 0, 0, 0.15);\n",
              "      filter: drop-shadow(0px 1px 2px rgba(0, 0, 0, 0.3));\n",
              "      fill: #FFFFFF;\n",
              "    }\n",
              "  </style>\n",
              "\n",
              "      <script>\n",
              "        const buttonEl =\n",
              "          document.querySelector('#df-297d85d4-bf59-4d76-93aa-35b55400d15c button.colab-df-convert');\n",
              "        buttonEl.style.display =\n",
              "          google.colab.kernel.accessAllowed ? 'block' : 'none';\n",
              "\n",
              "        async function convertToInteractive(key) {\n",
              "          const element = document.querySelector('#df-297d85d4-bf59-4d76-93aa-35b55400d15c');\n",
              "          const dataTable =\n",
              "            await google.colab.kernel.invokeFunction('convertToInteractive',\n",
              "                                                     [key], {});\n",
              "          if (!dataTable) return;\n",
              "\n",
              "          const docLinkHtml = 'Like what you see? Visit the ' +\n",
              "            '<a target=\"_blank\" href=https://colab.research.google.com/notebooks/data_table.ipynb>data table notebook</a>'\n",
              "            + ' to learn more about interactive tables.';\n",
              "          element.innerHTML = '';\n",
              "          dataTable['output_type'] = 'display_data';\n",
              "          await google.colab.output.renderOutput(dataTable, element);\n",
              "          const docLink = document.createElement('div');\n",
              "          docLink.innerHTML = docLinkHtml;\n",
              "          element.appendChild(docLink);\n",
              "        }\n",
              "      </script>\n",
              "    </div>\n",
              "  </div>\n",
              "  "
            ],
            "text/plain": [
              "            Entreprise          Metier  ... Experience  Ville\n",
              "count             9565            9563  ...       9488   9582\n",
              "unique            1382               4  ...         21     14\n",
              "top     Ball Aerospace  Data scientist  ...        1,5  Paris\n",
              "freq               748            3865  ...       1023   2015\n",
              "\n",
              "[4 rows x 6 columns]"
            ]
          },
          "metadata": {}
        },
        {
          "output_type": "stream",
          "name": "stdout",
          "text": [
            "\n",
            " Missing values: \n",
            "Entreprise      17\n",
            "Metier          19\n",
            "Technologies     0\n",
            "Diplome          0\n",
            "Experience      94\n",
            "Ville            0\n",
            "dtype: int64\n"
          ]
        }
      ],
      "source": [
        "# Basic stats\n",
        "print(\"Number of rows : {}\".format(df.shape[0]))\n",
        "print()\n",
        "\n",
        "print(\"Display of dataset: \")\n",
        "display(df.head())\n",
        "print()\n",
        "\n",
        "print(\"Basics statistics: \")\n",
        "data_desc = df.describe(include='all')\n",
        "display(data_desc)\n",
        "print()\n",
        "\n",
        "print(\" Missing values: \")\n",
        "print(df.isnull().sum())"
      ]
    },
    {
      "cell_type": "markdown",
      "source": [
        "Oui , il manque des données dans ces trois colonnes : Entreprise / Metier / Experience \n"
      ],
      "metadata": {
        "id": "PgMcQ5szRcOC"
      }
    },
    {
      "cell_type": "markdown",
      "metadata": {
        "id": "_r0PfbWxP_OB"
      },
      "source": [
        "### 3) Réaliser l'imputation des valeurs manquantes pour la variable \"Experience\" avec : \n",
        "- la valeur médiane pour les data scientists\n",
        "- la valeur moyenne pour les data engineers"
      ]
    },
    {
      "cell_type": "code",
      "source": [
        "#Remplace \",\" with \".\"\n",
        "df[\"Experience\"] = [float(str(i).replace(\",\", \".\")) for i in df[\"Experience\"]]\n"
      ],
      "metadata": {
        "id": "mYdhH8glk50o"
      },
      "execution_count": 5,
      "outputs": []
    },
    {
      "cell_type": "code",
      "source": [
        "#Remplacer en utilisant la moyenne pour les data scientists\n",
        "mask_DS = df['Metier']=='Data scientist'\n",
        "median = df.loc[mask_DS, 'Experience'].dropna().median()\n",
        "df.loc[mask_DS, 'Experience'] = df.loc[mask_DS, 'Experience'].fillna(median)\n",
        "\n",
        "\n",
        "#Remplacer en utilisant la moyenne pour les data engineers\n",
        "mask_DE = df['Metier']=='Data engineer'\n",
        "mean_DE = df.loc[mask_DE, 'Experience'].dropna().mean()\n",
        "df.loc[mask_DE, 'Experience'] = df.loc[mask_DE, 'Experience'].fillna(mean_DE)\n",
        "\n",
        "df.head()\n"
      ],
      "metadata": {
        "colab": {
          "base_uri": "https://localhost:8080/",
          "height": 206
        },
        "id": "90cXJJxRy2Ib",
        "outputId": "5c1ee1cd-e7b6-4b37-ae53-43a6421860e1"
      },
      "execution_count": 6,
      "outputs": [
        {
          "output_type": "execute_result",
          "data": {
            "text/html": [
              "\n",
              "  <div id=\"df-45f4dbe3-e513-4736-84cc-011383ef4a9c\">\n",
              "    <div class=\"colab-df-container\">\n",
              "      <div>\n",
              "<style scoped>\n",
              "    .dataframe tbody tr th:only-of-type {\n",
              "        vertical-align: middle;\n",
              "    }\n",
              "\n",
              "    .dataframe tbody tr th {\n",
              "        vertical-align: top;\n",
              "    }\n",
              "\n",
              "    .dataframe thead th {\n",
              "        text-align: right;\n",
              "    }\n",
              "</style>\n",
              "<table border=\"1\" class=\"dataframe\">\n",
              "  <thead>\n",
              "    <tr style=\"text-align: right;\">\n",
              "      <th></th>\n",
              "      <th>Entreprise</th>\n",
              "      <th>Metier</th>\n",
              "      <th>Technologies</th>\n",
              "      <th>Diplome</th>\n",
              "      <th>Experience</th>\n",
              "      <th>Ville</th>\n",
              "    </tr>\n",
              "  </thead>\n",
              "  <tbody>\n",
              "    <tr>\n",
              "      <th>0</th>\n",
              "      <td>Sanofi</td>\n",
              "      <td>Data scientist</td>\n",
              "      <td>Matlab/Python/Pyspark/Scikit-learn/Tensorflow</td>\n",
              "      <td>Master</td>\n",
              "      <td>1.0</td>\n",
              "      <td>Paris</td>\n",
              "    </tr>\n",
              "    <tr>\n",
              "      <th>1</th>\n",
              "      <td>Massachusetts General Hospital(MGH)</td>\n",
              "      <td>Data architecte</td>\n",
              "      <td>Python/Java/Scala/MongoDB</td>\n",
              "      <td>Master</td>\n",
              "      <td>3.0</td>\n",
              "      <td>Marseille</td>\n",
              "    </tr>\n",
              "    <tr>\n",
              "      <th>2</th>\n",
              "      <td>Delve</td>\n",
              "      <td>Lead data scientist</td>\n",
              "      <td>SPSS/SQL/Teradata/R/Python/Tensorflow/scikit-l...</td>\n",
              "      <td>Master</td>\n",
              "      <td>3.0</td>\n",
              "      <td>Nantes</td>\n",
              "    </tr>\n",
              "    <tr>\n",
              "      <th>3</th>\n",
              "      <td>Ann &amp; Robert H. Lurie Children’s Hospital of C...</td>\n",
              "      <td>Data scientist</td>\n",
              "      <td>C/C++/Java/Python</td>\n",
              "      <td>Master</td>\n",
              "      <td>1.5</td>\n",
              "      <td>Marseille</td>\n",
              "    </tr>\n",
              "    <tr>\n",
              "      <th>4</th>\n",
              "      <td>Arm</td>\n",
              "      <td>Data scientist</td>\n",
              "      <td>Matlab/Python/C++/numpy/Tensorflow/scikit-learn</td>\n",
              "      <td>Phd</td>\n",
              "      <td>2.0</td>\n",
              "      <td>Bordeaux</td>\n",
              "    </tr>\n",
              "  </tbody>\n",
              "</table>\n",
              "</div>\n",
              "      <button class=\"colab-df-convert\" onclick=\"convertToInteractive('df-45f4dbe3-e513-4736-84cc-011383ef4a9c')\"\n",
              "              title=\"Convert this dataframe to an interactive table.\"\n",
              "              style=\"display:none;\">\n",
              "        \n",
              "  <svg xmlns=\"http://www.w3.org/2000/svg\" height=\"24px\"viewBox=\"0 0 24 24\"\n",
              "       width=\"24px\">\n",
              "    <path d=\"M0 0h24v24H0V0z\" fill=\"none\"/>\n",
              "    <path d=\"M18.56 5.44l.94 2.06.94-2.06 2.06-.94-2.06-.94-.94-2.06-.94 2.06-2.06.94zm-11 1L8.5 8.5l.94-2.06 2.06-.94-2.06-.94L8.5 2.5l-.94 2.06-2.06.94zm10 10l.94 2.06.94-2.06 2.06-.94-2.06-.94-.94-2.06-.94 2.06-2.06.94z\"/><path d=\"M17.41 7.96l-1.37-1.37c-.4-.4-.92-.59-1.43-.59-.52 0-1.04.2-1.43.59L10.3 9.45l-7.72 7.72c-.78.78-.78 2.05 0 2.83L4 21.41c.39.39.9.59 1.41.59.51 0 1.02-.2 1.41-.59l7.78-7.78 2.81-2.81c.8-.78.8-2.07 0-2.86zM5.41 20L4 18.59l7.72-7.72 1.47 1.35L5.41 20z\"/>\n",
              "  </svg>\n",
              "      </button>\n",
              "      \n",
              "  <style>\n",
              "    .colab-df-container {\n",
              "      display:flex;\n",
              "      flex-wrap:wrap;\n",
              "      gap: 12px;\n",
              "    }\n",
              "\n",
              "    .colab-df-convert {\n",
              "      background-color: #E8F0FE;\n",
              "      border: none;\n",
              "      border-radius: 50%;\n",
              "      cursor: pointer;\n",
              "      display: none;\n",
              "      fill: #1967D2;\n",
              "      height: 32px;\n",
              "      padding: 0 0 0 0;\n",
              "      width: 32px;\n",
              "    }\n",
              "\n",
              "    .colab-df-convert:hover {\n",
              "      background-color: #E2EBFA;\n",
              "      box-shadow: 0px 1px 2px rgba(60, 64, 67, 0.3), 0px 1px 3px 1px rgba(60, 64, 67, 0.15);\n",
              "      fill: #174EA6;\n",
              "    }\n",
              "\n",
              "    [theme=dark] .colab-df-convert {\n",
              "      background-color: #3B4455;\n",
              "      fill: #D2E3FC;\n",
              "    }\n",
              "\n",
              "    [theme=dark] .colab-df-convert:hover {\n",
              "      background-color: #434B5C;\n",
              "      box-shadow: 0px 1px 3px 1px rgba(0, 0, 0, 0.15);\n",
              "      filter: drop-shadow(0px 1px 2px rgba(0, 0, 0, 0.3));\n",
              "      fill: #FFFFFF;\n",
              "    }\n",
              "  </style>\n",
              "\n",
              "      <script>\n",
              "        const buttonEl =\n",
              "          document.querySelector('#df-45f4dbe3-e513-4736-84cc-011383ef4a9c button.colab-df-convert');\n",
              "        buttonEl.style.display =\n",
              "          google.colab.kernel.accessAllowed ? 'block' : 'none';\n",
              "\n",
              "        async function convertToInteractive(key) {\n",
              "          const element = document.querySelector('#df-45f4dbe3-e513-4736-84cc-011383ef4a9c');\n",
              "          const dataTable =\n",
              "            await google.colab.kernel.invokeFunction('convertToInteractive',\n",
              "                                                     [key], {});\n",
              "          if (!dataTable) return;\n",
              "\n",
              "          const docLinkHtml = 'Like what you see? Visit the ' +\n",
              "            '<a target=\"_blank\" href=https://colab.research.google.com/notebooks/data_table.ipynb>data table notebook</a>'\n",
              "            + ' to learn more about interactive tables.';\n",
              "          element.innerHTML = '';\n",
              "          dataTable['output_type'] = 'display_data';\n",
              "          await google.colab.output.renderOutput(dataTable, element);\n",
              "          const docLink = document.createElement('div');\n",
              "          docLink.innerHTML = docLinkHtml;\n",
              "          element.appendChild(docLink);\n",
              "        }\n",
              "      </script>\n",
              "    </div>\n",
              "  </div>\n",
              "  "
            ],
            "text/plain": [
              "                                          Entreprise  ...      Ville\n",
              "0                                             Sanofi  ...      Paris\n",
              "1                Massachusetts General Hospital(MGH)  ...  Marseille\n",
              "2                                              Delve  ...     Nantes\n",
              "3  Ann & Robert H. Lurie Children’s Hospital of C...  ...  Marseille\n",
              "4                                                Arm  ...   Bordeaux\n",
              "\n",
              "[5 rows x 6 columns]"
            ]
          },
          "metadata": {},
          "execution_count": 6
        }
      ]
    },
    {
      "cell_type": "markdown",
      "metadata": {
        "id": "t5t7Z1a7P_OE"
      },
      "source": [
        "### 4) Combien d'années d'expériences ont, en moyenne, chacun des profils : le data scientist, le lead data scientist et le data engineer en moyenne?"
      ]
    },
    {
      "cell_type": "code",
      "execution_count": 7,
      "metadata": {
        "colab": {
          "base_uri": "https://localhost:8080/"
        },
        "id": "doTK4Tb5P_OH",
        "outputId": "d9698899-05c8-4b90-eafa-e8d6c19204a9"
      },
      "outputs": [
        {
          "output_type": "stream",
          "name": "stdout",
          "text": [
            "Les valeurs manquantes dans Experience : 0.\n",
            "\n",
            "Nombre moyenne d'années d'expériences: \n",
            " le data scientist: 2.241 \n",
            " le lead data scientist: 3.965 \n",
            " data engineer: 2.985\n"
          ]
        }
      ],
      "source": [
        "# Remplacer en utilisant la moyenne pour les Lead data scientist\n",
        "mask_LD = df['Metier'] == 'Lead data scientist'\n",
        "mean_LD = df.loc[mask_LD, 'Experience'].dropna().mean()\n",
        "df.loc[mask_LD, 'Experience'] = df.loc[mask_LD, 'Experience'].fillna(mean_DE)\n",
        "\n",
        "# Remplacer en utilisant la moyenne pour les Data Architecte\n",
        "mask_AR = df['Metier'] == 'Data architecte'\n",
        "mean_AR = df.loc[mask_AR, 'Experience'].dropna().mean()\n",
        "df.loc[mask_AR, 'Experience'] = df.loc[mask_AR, 'Experience'].fillna(mean_DE)\n",
        "\n",
        "#Calcul de la moyenne des data scientist\n",
        "mean_DS= df.loc[mask_DS, 'Experience'].dropna().mean()\n",
        "print(\"Les valeurs manquantes dans Experience : {0:d}.\\n\".format(df['Experience'].isna().sum()))\n",
        "\n",
        "print(\"Nombre moyenne d'années d'expériences: \\n le data scientist:\" \n",
        "      ,round(mean_DS,3),\"\\n le lead data scientist:\",round(mean_LD,3),\n",
        "      \"\\n data engineer:\",round(mean_DE,3))"
      ]
    },
    {
      "cell_type": "markdown",
      "metadata": {
        "id": "rYmV11xcP_OI"
      },
      "source": [
        "### 5) Faire la représentation graphique de votre choix afin de comparer le nombre moyen d'années d'expériences pour chaque métier"
      ]
    },
    {
      "cell_type": "code",
      "source": [
        "\n",
        "data = [['Data Scientist', mean_DS], ['Data Engineer', mean_DE], ['Lead data scientist', mean_LD] , [' Data Architect', mean_AR]]\n",
        "df1 = pd.DataFrame(data, columns = ['Metier', 'Experience en moyenne'])\n",
        "df1['Diplome']= df['Diplome']\n",
        "\n",
        "sb.catplot(x='Metier', y='Experience en moyenne', kind=\"bar\", data=df1, height=4, aspect=2)\n",
        "\n"
      ],
      "metadata": {
        "colab": {
          "base_uri": "https://localhost:8080/",
          "height": 314
        },
        "id": "7MsJpKjYl_x1",
        "outputId": "8c5fc4a7-1173-47a0-b705-164316068619"
      },
      "execution_count": 8,
      "outputs": [
        {
          "output_type": "execute_result",
          "data": {
            "text/plain": [
              "<seaborn.axisgrid.FacetGrid at 0x7fc37b6b1850>"
            ]
          },
          "metadata": {},
          "execution_count": 8
        },
        {
          "output_type": "display_data",
          "data": {
            "image/png": "[encoded data removed]",
            "text/plain": [
              "<Figure size 576x288 with 1 Axes>"
            ]
          },
          "metadata": {}
        }
      ]
    },
    {
      "cell_type": "markdown",
      "metadata": {
        "id": "Ee9GjvwmP_OK"
      },
      "source": [
        "### 6) Transformer la variable continue 'Experience' en une nouvelle variable catégorielle 'Exp_label' à 4 modalités: débutant, confirmé, avancé et expert\n",
        "- Veuillez expliquer votre choix du règle de transformation.  "
      ]
    },
    {
      "cell_type": "code",
      "execution_count": 9,
      "metadata": {
        "id": "14BdyuoiP_OL",
        "colab": {
          "base_uri": "https://localhost:8080/",
          "height": 572
        },
        "outputId": "89b00c80-af6c-4a0d-b541-222ccb81d1b9"
      },
      "outputs": [
        {
          "output_type": "stream",
          "name": "stdout",
          "text": [
            "Débutant = Experience <2 ans \n",
            " Confirmé =Experience enre 2 et 4 ans \n",
            " Avancé= Experience entre 4 et 7 ans \n",
            " et Expert= Experience >7 ans\n"
          ]
        },
        {
          "output_type": "execute_result",
          "data": {
            "text/html": [
              "\n",
              "  <div id=\"df-93cf5de5-6493-4d58-909e-f142668e252e\">\n",
              "    <div class=\"colab-df-container\">\n",
              "      <div>\n",
              "<style scoped>\n",
              "    .dataframe tbody tr th:only-of-type {\n",
              "        vertical-align: middle;\n",
              "    }\n",
              "\n",
              "    .dataframe tbody tr th {\n",
              "        vertical-align: top;\n",
              "    }\n",
              "\n",
              "    .dataframe thead th {\n",
              "        text-align: right;\n",
              "    }\n",
              "</style>\n",
              "<table border=\"1\" class=\"dataframe\">\n",
              "  <thead>\n",
              "    <tr style=\"text-align: right;\">\n",
              "      <th></th>\n",
              "      <th>Entreprise</th>\n",
              "      <th>Metier</th>\n",
              "      <th>Technologies</th>\n",
              "      <th>Diplome</th>\n",
              "      <th>Experience</th>\n",
              "      <th>Ville</th>\n",
              "      <th>Exp_label</th>\n",
              "    </tr>\n",
              "  </thead>\n",
              "  <tbody>\n",
              "    <tr>\n",
              "      <th>0</th>\n",
              "      <td>Sanofi</td>\n",
              "      <td>Data scientist</td>\n",
              "      <td>Matlab/Python/Pyspark/Scikit-learn/Tensorflow</td>\n",
              "      <td>Master</td>\n",
              "      <td>1.0</td>\n",
              "      <td>Paris</td>\n",
              "      <td>débutant</td>\n",
              "    </tr>\n",
              "    <tr>\n",
              "      <th>1</th>\n",
              "      <td>Massachusetts General Hospital(MGH)</td>\n",
              "      <td>Data architecte</td>\n",
              "      <td>Python/Java/Scala/MongoDB</td>\n",
              "      <td>Master</td>\n",
              "      <td>3.0</td>\n",
              "      <td>Marseille</td>\n",
              "      <td>confirmé</td>\n",
              "    </tr>\n",
              "    <tr>\n",
              "      <th>2</th>\n",
              "      <td>Delve</td>\n",
              "      <td>Lead data scientist</td>\n",
              "      <td>SPSS/SQL/Teradata/R/Python/Tensorflow/scikit-l...</td>\n",
              "      <td>Master</td>\n",
              "      <td>3.0</td>\n",
              "      <td>Nantes</td>\n",
              "      <td>confirmé</td>\n",
              "    </tr>\n",
              "    <tr>\n",
              "      <th>3</th>\n",
              "      <td>Ann &amp; Robert H. Lurie Children’s Hospital of C...</td>\n",
              "      <td>Data scientist</td>\n",
              "      <td>C/C++/Java/Python</td>\n",
              "      <td>Master</td>\n",
              "      <td>1.5</td>\n",
              "      <td>Marseille</td>\n",
              "      <td>débutant</td>\n",
              "    </tr>\n",
              "    <tr>\n",
              "      <th>4</th>\n",
              "      <td>Arm</td>\n",
              "      <td>Data scientist</td>\n",
              "      <td>Matlab/Python/C++/numpy/Tensorflow/scikit-learn</td>\n",
              "      <td>Phd</td>\n",
              "      <td>2.0</td>\n",
              "      <td>Bordeaux</td>\n",
              "      <td>confirmé</td>\n",
              "    </tr>\n",
              "    <tr>\n",
              "      <th>...</th>\n",
              "      <td>...</td>\n",
              "      <td>...</td>\n",
              "      <td>...</td>\n",
              "      <td>...</td>\n",
              "      <td>...</td>\n",
              "      <td>...</td>\n",
              "      <td>...</td>\n",
              "    </tr>\n",
              "    <tr>\n",
              "      <th>9577</th>\n",
              "      <td>Massachusetts General Hospital(MGH)</td>\n",
              "      <td>Data scientist</td>\n",
              "      <td>C++/R/Python/Matlab/Matplotlib</td>\n",
              "      <td>Master</td>\n",
              "      <td>1.5</td>\n",
              "      <td>Lyon</td>\n",
              "      <td>débutant</td>\n",
              "    </tr>\n",
              "    <tr>\n",
              "      <th>9578</th>\n",
              "      <td>Charles River Analytics</td>\n",
              "      <td>Data scientist</td>\n",
              "      <td>Excel/Python/Matlab/R/machine learning/anglais</td>\n",
              "      <td>Master</td>\n",
              "      <td>11.0</td>\n",
              "      <td>Toulouse</td>\n",
              "      <td>expert</td>\n",
              "    </tr>\n",
              "    <tr>\n",
              "      <th>9579</th>\n",
              "      <td>Ball Aerospace</td>\n",
              "      <td>Data scientist</td>\n",
              "      <td>R/machine learning/Excel/VBA</td>\n",
              "      <td>Master</td>\n",
              "      <td>1.0</td>\n",
              "      <td>Paris</td>\n",
              "      <td>débutant</td>\n",
              "    </tr>\n",
              "    <tr>\n",
              "      <th>9580</th>\n",
              "      <td>Takeda Pharmaceutical</td>\n",
              "      <td>Data scientist</td>\n",
              "      <td>Python/Pyspark/machine learning/Microsoft Azure</td>\n",
              "      <td>Master</td>\n",
              "      <td>17.0</td>\n",
              "      <td>Rennes</td>\n",
              "      <td>expert</td>\n",
              "    </tr>\n",
              "    <tr>\n",
              "      <th>9581</th>\n",
              "      <td>Vertex</td>\n",
              "      <td>Data scientist</td>\n",
              "      <td>VBA/Python/Excel/R</td>\n",
              "      <td>Phd</td>\n",
              "      <td>0.0</td>\n",
              "      <td>Paris</td>\n",
              "      <td>débutant</td>\n",
              "    </tr>\n",
              "  </tbody>\n",
              "</table>\n",
              "<p>9582 rows × 7 columns</p>\n",
              "</div>\n",
              "      <button class=\"colab-df-convert\" onclick=\"convertToInteractive('df-93cf5de5-6493-4d58-909e-f142668e252e')\"\n",
              "              title=\"Convert this dataframe to an interactive table.\"\n",
              "              style=\"display:none;\">\n",
              "        \n",
              "  <svg xmlns=\"http://www.w3.org/2000/svg\" height=\"24px\"viewBox=\"0 0 24 24\"\n",
              "       width=\"24px\">\n",
              "    <path d=\"M0 0h24v24H0V0z\" fill=\"none\"/>\n",
              "    <path d=\"M18.56 5.44l.94 2.06.94-2.06 2.06-.94-2.06-.94-.94-2.06-.94 2.06-2.06.94zm-11 1L8.5 8.5l.94-2.06 2.06-.94-2.06-.94L8.5 2.5l-.94 2.06-2.06.94zm10 10l.94 2.06.94-2.06 2.06-.94-2.06-.94-.94-2.06-.94 2.06-2.06.94z\"/><path d=\"M17.41 7.96l-1.37-1.37c-.4-.4-.92-.59-1.43-.59-.52 0-1.04.2-1.43.59L10.3 9.45l-7.72 7.72c-.78.78-.78 2.05 0 2.83L4 21.41c.39.39.9.59 1.41.59.51 0 1.02-.2 1.41-.59l7.78-7.78 2.81-2.81c.8-.78.8-2.07 0-2.86zM5.41 20L4 18.59l7.72-7.72 1.47 1.35L5.41 20z\"/>\n",
              "  </svg>\n",
              "      </button>\n",
              "      \n",
              "  <style>\n",
              "    .colab-df-container {\n",
              "      display:flex;\n",
              "      flex-wrap:wrap;\n",
              "      gap: 12px;\n",
              "    }\n",
              "\n",
              "    .colab-df-convert {\n",
              "      background-color: #E8F0FE;\n",
              "      border: none;\n",
              "      border-radius: 50%;\n",
              "      cursor: pointer;\n",
              "      display: none;\n",
              "      fill: #1967D2;\n",
              "      height: 32px;\n",
              "      padding: 0 0 0 0;\n",
              "      width: 32px;\n",
              "    }\n",
              "\n",
              "    .colab-df-convert:hover {\n",
              "      background-color: #E2EBFA;\n",
              "      box-shadow: 0px 1px 2px rgba(60, 64, 67, 0.3), 0px 1px 3px 1px rgba(60, 64, 67, 0.15);\n",
              "      fill: #174EA6;\n",
              "    }\n",
              "\n",
              "    [theme=dark] .colab-df-convert {\n",
              "      background-color: #3B4455;\n",
              "      fill: #D2E3FC;\n",
              "    }\n",
              "\n",
              "    [theme=dark] .colab-df-convert:hover {\n",
              "      background-color: #434B5C;\n",
              "      box-shadow: 0px 1px 3px 1px rgba(0, 0, 0, 0.15);\n",
              "      filter: drop-shadow(0px 1px 2px rgba(0, 0, 0, 0.3));\n",
              "      fill: #FFFFFF;\n",
              "    }\n",
              "  </style>\n",
              "\n",
              "      <script>\n",
              "        const buttonEl =\n",
              "          document.querySelector('#df-93cf5de5-6493-4d58-909e-f142668e252e button.colab-df-convert');\n",
              "        buttonEl.style.display =\n",
              "          google.colab.kernel.accessAllowed ? 'block' : 'none';\n",
              "\n",
              "        async function convertToInteractive(key) {\n",
              "          const element = document.querySelector('#df-93cf5de5-6493-4d58-909e-f142668e252e');\n",
              "          const dataTable =\n",
              "            await google.colab.kernel.invokeFunction('convertToInteractive',\n",
              "                                                     [key], {});\n",
              "          if (!dataTable) return;\n",
              "\n",
              "          const docLinkHtml = 'Like what you see? Visit the ' +\n",
              "            '<a target=\"_blank\" href=https://colab.research.google.com/notebooks/data_table.ipynb>data table notebook</a>'\n",
              "            + ' to learn more about interactive tables.';\n",
              "          element.innerHTML = '';\n",
              "          dataTable['output_type'] = 'display_data';\n",
              "          await google.colab.output.renderOutput(dataTable, element);\n",
              "          const docLink = document.createElement('div');\n",
              "          docLink.innerHTML = docLinkHtml;\n",
              "          element.appendChild(docLink);\n",
              "        }\n",
              "      </script>\n",
              "    </div>\n",
              "  </div>\n",
              "  "
            ],
            "text/plain": [
              "                                             Entreprise  ... Exp_label\n",
              "0                                                Sanofi  ...  débutant\n",
              "1                   Massachusetts General Hospital(MGH)  ...  confirmé\n",
              "2                                                 Delve  ...  confirmé\n",
              "3     Ann & Robert H. Lurie Children’s Hospital of C...  ...  débutant\n",
              "4                                                   Arm  ...  confirmé\n",
              "...                                                 ...  ...       ...\n",
              "9577                Massachusetts General Hospital(MGH)  ...  débutant\n",
              "9578                            Charles River Analytics  ...    expert\n",
              "9579                                     Ball Aerospace  ...  débutant\n",
              "9580                              Takeda Pharmaceutical  ...    expert\n",
              "9581                                             Vertex  ...  débutant\n",
              "\n",
              "[9582 rows x 7 columns]"
            ]
          },
          "metadata": {},
          "execution_count": 9
        }
      ],
      "source": [
        "print ('Débutant = Experience <2 ans \\n Confirmé =Experience enre 2 et 4 ans \\n Avancé= Experience entre 4 et 7 ans \\n et Expert= Experience >7 ans')\n",
        "x = df['Experience']\n",
        "\n",
        "df['Exp_label'] = ['débutant' if x <2 else 'confirmé' if 2 <= x <4  else 'avancé' if 4 < x <7   else 'expert' if x > 7 else 'nan' for x in df['Experience']]\n",
        "df\n"
      ]
    },
    {
      "cell_type": "markdown",
      "metadata": {
        "id": "i9CZ233fP_OM"
      },
      "source": [
        "### 7) Quelles sont les 5 technologies les plus utilisées? Faites un graphique"
      ]
    },
    {
      "cell_type": "code",
      "source": [
        "df1= df.Technologies.apply(lambda x: pd.value_counts(x.split(\"/\"))).sum(axis = 0)\n",
        "r= pd.DataFrame({'Technologies':df1.index, 'count':df1.values}).sort_values(by=['count'],ascending=False)\n",
        "r1= r.head(5)\n",
        "print(\"Le 5 technologies les plus utilisés sont: \\n\",)\n",
        "print(r1)"
      ],
      "metadata": {
        "colab": {
          "base_uri": "https://localhost:8080/"
        },
        "id": "Jd7PMgv51p-9",
        "outputId": "726366c9-5707-477f-a607-b6f9f2ee598c"
      },
      "execution_count": 10,
      "outputs": [
        {
          "output_type": "stream",
          "name": "stdout",
          "text": [
            "Le 5 technologies les plus utilisés sont: \n",
            "\n",
            "   Technologies   count\n",
            "0        Python  6627.0\n",
            "10            R  4374.0\n",
            "12          SQL  2581.0\n",
            "6          Java  1719.0\n",
            "23       Hadoop  1589.0\n"
          ]
        }
      ]
    },
    {
      "cell_type": "code",
      "source": [
        "sb.catplot(x='Technologies', y='count', kind=\"bar\", data=r1, height=7, aspect=2)"
      ],
      "metadata": {
        "colab": {
          "base_uri": "https://localhost:8080/",
          "height": 530
        },
        "id": "wh9zB26B6FqY",
        "outputId": "5806aedd-fa9a-464c-f36f-5041b6a900d2"
      },
      "execution_count": 11,
      "outputs": [
        {
          "output_type": "execute_result",
          "data": {
            "text/plain": [
              "<seaborn.axisgrid.FacetGrid at 0x7fc370371c50>"
            ]
          },
          "metadata": {},
          "execution_count": 11
        },
        {
          "output_type": "display_data",
          "data": {
            "image/png": "[encoded data removed]",
            "text/plain": [
              "<Figure size 1008x504 with 1 Axes>"
            ]
          },
          "metadata": {}
        }
      ]
    },
    {
      "cell_type": "markdown",
      "metadata": {
        "id": "72xD9rZJP_ON"
      },
      "source": [
        "### 8) Réaliser une méthode de clustering non supervisée de votre choix pour faire apparaître 2 clusters que vous jugerez pertinents. Donnez les caractéristiques de chacun des clusters.\n",
        "-  Justifier la performance de votre algorithme grace à une métrique.\n",
        "-  Interpréter votre resultat.  "
      ]
    },
    {
      "cell_type": "code",
      "source": [
        "print('The K-means method will be used')\n",
        "\n",
        "# Encoder the categorical variables\n",
        "from sklearn import preprocessing\n",
        "lab = preprocessing.LabelEncoder()\n",
        "\n",
        "df2 = df.loc[:,['Experience']]\n",
        "df2['Ville'] = pd.Series(lab.fit_transform(np.squeeze(df.loc[:,['Ville']])[:]), index = df2.index)\n",
        "df2['Technologies'] = pd.Series(lab.fit_transform(np.squeeze(df.loc[:,['Technologies']])[:]), index = df2.index)\n",
        "df2['Diplome'] = pd.Series(lab.fit_transform(np.squeeze(df.loc[:,['Diplome']])[:]), index = df2.index)\n",
        "df2['Exp_label'] = pd.Series(lab.fit_transform(np.squeeze(df.loc[:,['Exp_label']])[:]), index = df2.index)\n",
        "df2['Metier'] = pd.Series(lab.fit_transform(np.squeeze(df.loc[:,['Metier']])[:]), index = df2.index)\n",
        "df2 = np.round(df2,2)\n",
        "df2.head()"
      ],
      "metadata": {
        "colab": {
          "base_uri": "https://localhost:8080/",
          "height": 223
        },
        "id": "0fymdf_OUR9N",
        "outputId": "8de9e869-18c5-42cd-e764-c7828d6b41e7"
      },
      "execution_count": 25,
      "outputs": [
        {
          "output_type": "stream",
          "name": "stdout",
          "text": [
            "The K-means method will be used\n"
          ]
        },
        {
          "output_type": "execute_result",
          "data": {
            "text/html": [
              "\n",
              "  <div id=\"df-a9ce9d26-f90f-46e4-9ebb-cd20261e19c3\">\n",
              "    <div class=\"colab-df-container\">\n",
              "      <div>\n",
              "<style scoped>\n",
              "    .dataframe tbody tr th:only-of-type {\n",
              "        vertical-align: middle;\n",
              "    }\n",
              "\n",
              "    .dataframe tbody tr th {\n",
              "        vertical-align: top;\n",
              "    }\n",
              "\n",
              "    .dataframe thead th {\n",
              "        text-align: right;\n",
              "    }\n",
              "</style>\n",
              "<table border=\"1\" class=\"dataframe\">\n",
              "  <thead>\n",
              "    <tr style=\"text-align: right;\">\n",
              "      <th></th>\n",
              "      <th>Experience</th>\n",
              "      <th>Ville</th>\n",
              "      <th>Technologies</th>\n",
              "      <th>Diplome</th>\n",
              "      <th>Exp_label</th>\n",
              "      <th>Metier</th>\n",
              "    </tr>\n",
              "  </thead>\n",
              "  <tbody>\n",
              "    <tr>\n",
              "      <th>0</th>\n",
              "      <td>1.0</td>\n",
              "      <td>8</td>\n",
              "      <td>27</td>\n",
              "      <td>1</td>\n",
              "      <td>2</td>\n",
              "      <td>2</td>\n",
              "    </tr>\n",
              "    <tr>\n",
              "      <th>1</th>\n",
              "      <td>3.0</td>\n",
              "      <td>4</td>\n",
              "      <td>34</td>\n",
              "      <td>1</td>\n",
              "      <td>1</td>\n",
              "      <td>0</td>\n",
              "    </tr>\n",
              "    <tr>\n",
              "      <th>2</th>\n",
              "      <td>3.0</td>\n",
              "      <td>6</td>\n",
              "      <td>51</td>\n",
              "      <td>1</td>\n",
              "      <td>1</td>\n",
              "      <td>3</td>\n",
              "    </tr>\n",
              "    <tr>\n",
              "      <th>3</th>\n",
              "      <td>1.5</td>\n",
              "      <td>4</td>\n",
              "      <td>2</td>\n",
              "      <td>1</td>\n",
              "      <td>2</td>\n",
              "      <td>2</td>\n",
              "    </tr>\n",
              "    <tr>\n",
              "      <th>4</th>\n",
              "      <td>2.0</td>\n",
              "      <td>0</td>\n",
              "      <td>26</td>\n",
              "      <td>3</td>\n",
              "      <td>1</td>\n",
              "      <td>2</td>\n",
              "    </tr>\n",
              "  </tbody>\n",
              "</table>\n",
              "</div>\n",
              "      <button class=\"colab-df-convert\" onclick=\"convertToInteractive('df-a9ce9d26-f90f-46e4-9ebb-cd20261e19c3')\"\n",
              "              title=\"Convert this dataframe to an interactive table.\"\n",
              "              style=\"display:none;\">\n",
              "        \n",
              "  <svg xmlns=\"http://www.w3.org/2000/svg\" height=\"24px\"viewBox=\"0 0 24 24\"\n",
              "       width=\"24px\">\n",
              "    <path d=\"M0 0h24v24H0V0z\" fill=\"none\"/>\n",
              "    <path d=\"M18.56 5.44l.94 2.06.94-2.06 2.06-.94-2.06-.94-.94-2.06-.94 2.06-2.06.94zm-11 1L8.5 8.5l.94-2.06 2.06-.94-2.06-.94L8.5 2.5l-.94 2.06-2.06.94zm10 10l.94 2.06.94-2.06 2.06-.94-2.06-.94-.94-2.06-.94 2.06-2.06.94z\"/><path d=\"M17.41 7.96l-1.37-1.37c-.4-.4-.92-.59-1.43-.59-.52 0-1.04.2-1.43.59L10.3 9.45l-7.72 7.72c-.78.78-.78 2.05 0 2.83L4 21.41c.39.39.9.59 1.41.59.51 0 1.02-.2 1.41-.59l7.78-7.78 2.81-2.81c.8-.78.8-2.07 0-2.86zM5.41 20L4 18.59l7.72-7.72 1.47 1.35L5.41 20z\"/>\n",
              "  </svg>\n",
              "      </button>\n",
              "      \n",
              "  <style>\n",
              "    .colab-df-container {\n",
              "      display:flex;\n",
              "      flex-wrap:wrap;\n",
              "      gap: 12px;\n",
              "    }\n",
              "\n",
              "    .colab-df-convert {\n",
              "      background-color: #E8F0FE;\n",
              "      border: none;\n",
              "      border-radius: 50%;\n",
              "      cursor: pointer;\n",
              "      display: none;\n",
              "      fill: #1967D2;\n",
              "      height: 32px;\n",
              "      padding: 0 0 0 0;\n",
              "      width: 32px;\n",
              "    }\n",
              "\n",
              "    .colab-df-convert:hover {\n",
              "      background-color: #E2EBFA;\n",
              "      box-shadow: 0px 1px 2px rgba(60, 64, 67, 0.3), 0px 1px 3px 1px rgba(60, 64, 67, 0.15);\n",
              "      fill: #174EA6;\n",
              "    }\n",
              "\n",
              "    [theme=dark] .colab-df-convert {\n",
              "      background-color: #3B4455;\n",
              "      fill: #D2E3FC;\n",
              "    }\n",
              "\n",
              "    [theme=dark] .colab-df-convert:hover {\n",
              "      background-color: #434B5C;\n",
              "      box-shadow: 0px 1px 3px 1px rgba(0, 0, 0, 0.15);\n",
              "      filter: drop-shadow(0px 1px 2px rgba(0, 0, 0, 0.3));\n",
              "      fill: #FFFFFF;\n",
              "    }\n",
              "  </style>\n",
              "\n",
              "      <script>\n",
              "        const buttonEl =\n",
              "          document.querySelector('#df-a9ce9d26-f90f-46e4-9ebb-cd20261e19c3 button.colab-df-convert');\n",
              "        buttonEl.style.display =\n",
              "          google.colab.kernel.accessAllowed ? 'block' : 'none';\n",
              "\n",
              "        async function convertToInteractive(key) {\n",
              "          const element = document.querySelector('#df-a9ce9d26-f90f-46e4-9ebb-cd20261e19c3');\n",
              "          const dataTable =\n",
              "            await google.colab.kernel.invokeFunction('convertToInteractive',\n",
              "                                                     [key], {});\n",
              "          if (!dataTable) return;\n",
              "\n",
              "          const docLinkHtml = 'Like what you see? Visit the ' +\n",
              "            '<a target=\"_blank\" href=https://colab.research.google.com/notebooks/data_table.ipynb>data table notebook</a>'\n",
              "            + ' to learn more about interactive tables.';\n",
              "          element.innerHTML = '';\n",
              "          dataTable['output_type'] = 'display_data';\n",
              "          await google.colab.output.renderOutput(dataTable, element);\n",
              "          const docLink = document.createElement('div');\n",
              "          docLink.innerHTML = docLinkHtml;\n",
              "          element.appendChild(docLink);\n",
              "        }\n",
              "      </script>\n",
              "    </div>\n",
              "  </div>\n",
              "  "
            ],
            "text/plain": [
              "   Experience  Ville  Technologies  Diplome  Exp_label  Metier\n",
              "0         1.0      8            27        1          2       2\n",
              "1         3.0      4            34        1          1       0\n",
              "2         3.0      6            51        1          1       3\n",
              "3         1.5      4             2        1          2       2\n",
              "4         2.0      0            26        3          1       2"
            ]
          },
          "metadata": {},
          "execution_count": 25
        }
      ]
    },
    {
      "cell_type": "code",
      "source": [
        "# Import Standard Scaler\n",
        "from sklearn.preprocessing import StandardScaler\n",
        "from sklearn.mixture import GaussianMixture\n",
        "from sklearn.preprocessing import MinMaxScaler\n",
        "\n",
        "X = df2.astype(float)\n",
        "\n",
        "# Initialize StandardScaler\n",
        "# StandardScaler will substract mean and divide by standard deviation to each observation\n",
        "sc = StandardScaler()\n",
        "\n",
        "# Apply StandardScaler to X\n",
        "X = sc.fit_transform(X)\n",
        "\n",
        "# Visualize first five rows \n",
        "# Standard scaler transform X as numpy array. Therefore you can't use .head()\n",
        "X[:5]"
      ],
      "metadata": {
        "colab": {
          "base_uri": "https://localhost:8080/"
        },
        "id": "Qdc9Dlif0NHx",
        "outputId": "215ef61f-2263-462e-f1ac-8153129466bb"
      },
      "execution_count": 26,
      "outputs": [
        {
          "output_type": "execute_result",
          "data": {
            "text/plain": [
              "array([[-0.67050765,  0.55797821, -0.17304965, -0.42495901,  0.29794277,\n",
              "         0.56793337],\n",
              "       [ 0.06934646, -0.5054822 ,  0.23989798, -0.42495901, -0.68888323,\n",
              "        -1.47521946],\n",
              "       [ 0.06934646,  0.02624801,  1.2427708 , -0.42495901, -0.68888323,\n",
              "         1.58950979],\n",
              "       [-0.48554412, -0.5054822 , -1.64786261, -0.42495901,  0.29794277,\n",
              "         0.56793337],\n",
              "       [-0.30058059, -1.56894261, -0.23204216,  1.56865529, -0.68888323,\n",
              "         0.56793337]])"
            ]
          },
          "metadata": {},
          "execution_count": 26
        }
      ]
    },
    {
      "cell_type": "code",
      "source": [
        "# Import K-Means \n",
        "from sklearn.cluster import KMeans\n",
        "\n",
        "# Instanciate KMeans with k=2 and initialisation with k-means++\n",
        "\n",
        "kmeans = KMeans(n_clusters=2, random_state=0)\n",
        "\n",
        "# Fit kmeans to our dataset\n",
        "kmeans.fit(X)"
      ],
      "metadata": {
        "colab": {
          "base_uri": "https://localhost:8080/"
        },
        "id": "0MHQbSjd1Ijj",
        "outputId": "d671979b-edde-404b-a6ee-1860e192907b"
      },
      "execution_count": 27,
      "outputs": [
        {
          "output_type": "execute_result",
          "data": {
            "text/plain": [
              "KMeans(n_clusters=2, random_state=0)"
            ]
          },
          "metadata": {},
          "execution_count": 27
        }
      ]
    },
    {
      "cell_type": "code",
      "source": [
        "# Cluster centers coordinates\n",
        "cluster_centers = sc.inverse_transform(kmeans.cluster_centers_)\n",
        "\n",
        "# Get column names \n",
        "labels = ['Experience'],['Ville'],['Technologies'],['Diplome'],['Exp_Label'],['Metier']\n",
        "# Create a heatmap \n",
        "sb.heatmap(pd.DataFrame(cluster_centers, columns=labels) , annot=True)\n",
        "\n"
      ],
      "metadata": {
        "colab": {
          "base_uri": "https://localhost:8080/",
          "height": 354
        },
        "id": "h-8E1MQs3BgG",
        "outputId": "da7b6e86-726d-4142-dff2-a034dae69bd9"
      },
      "execution_count": 28,
      "outputs": [
        {
          "output_type": "execute_result",
          "data": {
            "text/plain": [
              "<matplotlib.axes._subplots.AxesSubplot at 0x7fc3701f4f50>"
            ]
          },
          "metadata": {},
          "execution_count": 28
        },
        {
          "output_type": "display_data",
          "data": {
            "image/png": "[encoded data removed]",
            "text/plain": [
              "<Figure size 432x288 with 2 Axes>"
            ]
          },
          "metadata": {}
        }
      ]
    },
    {
      "cell_type": "code",
      "source": [
        "# Cluster characteristic\n",
        "from sklearn.mixture import GaussianMixture\n",
        "from sklearn.preprocessing import MinMaxScaler\n",
        "\n",
        "scaler = MinMaxScaler()\n",
        "X_scaled = scaler.fit_transform(X)\n",
        "\n",
        "kmeans = KMeans(n_clusters=2, max_iter = 100, algorithm = 'auto')\n",
        "kmeans.fit(X_scaled)\n",
        "labels_ = kmeans.labels_\n",
        "\n",
        "\n",
        "plt.figure(figsize=(10,20))\n",
        "labels_ = kmeans.labels_\n",
        "plt.subplot(523),\n",
        "ax = df.loc[labels_==1,'Diplome'].value_counts().plot(kind='barh', color='b', label='cluster_1')\n",
        "plt.legend()\n",
        "plt.subplot(524),\n",
        "ax = df.loc[labels_==0,'Diplome'].value_counts().plot(kind='barh', color='y', label='cluster_2')\n",
        "plt.ylabel(\"Nombre de profil\")\n",
        "plt.legend()\n",
        "\n",
        "plt.subplot(513),\n",
        "ax = df.loc[labels_==0,'Ville'].value_counts().plot(kind='barh', color = 'b', label='cluster_2')\n",
        "ax = df.loc[labels_==1,'Ville'].value_counts().plot(kind='barh', color = 'y', label='cluster_1')\n",
        "plt.ylabel(\"Nombre de profil\")\n",
        "plt.xlabel(\"Ville\")\n",
        "plt.legend()\n",
        "\n",
        "plt.subplot(514),\n",
        "ax = df.loc[labels_==0,'Technologies'].value_counts()[0:5].plot(kind='barh', color = 'b', label='cluster_2')\n",
        "ax = df.loc[labels_==1,'Technologies'].value_counts()[0:5].plot(kind='barh', color = 'y', label='cluster_1')\n",
        "plt.ylabel(\"Nombre de profil\")\n",
        "plt.xlabel(\"Technologie\")\n",
        "plt.legend()\n",
        "\n",
        "\n",
        "\n"
      ],
      "metadata": {
        "colab": {
          "base_uri": "https://localhost:8080/",
          "height": 719
        },
        "id": "S12IIYpZehiB",
        "outputId": "7024c8a3-8312-4ed9-9d5f-a2a36a7c7ae9"
      },
      "execution_count": 36,
      "outputs": [
        {
          "output_type": "execute_result",
          "data": {
            "text/plain": [
              "<matplotlib.legend.Legend at 0x7fc36f45f4d0>"
            ]
          },
          "metadata": {},
          "execution_count": 36
        },
        {
          "output_type": "display_data",
          "data": {
            "image/png": "[encoded data removed]",
            "text/plain": [
              "<Figure size 720x1440 with 4 Axes>"
            ]
          },
          "metadata": {}
        }
      ]
    },
    {
      "cell_type": "code",
      "source": [
        "\n",
        "# Feature scaling\n",
        "scaler = MinMaxScaler()\n",
        "X_scaled = scaler.fit_transform(X)\n",
        "\n",
        "kmeans = KMeans(n_clusters=2, max_iter = 100, algorithm = 'auto')\n",
        "kmeans.fit(X_scaled)\n",
        "labels_ = kmeans.labels_ \n",
        "\n",
        "\n",
        "#Clustering Error\n",
        "c1, c2 = kmeans.cluster_centers_\n",
        "NMSE = lambda a,b: 100 * ((a-b)**2).sum() / ((a)**2).sum()\n",
        "Quad_dist1 = NMSE(X_scaled[labels_==0], c1) \n",
        "Quad_dist2 = NMSE(X_scaled[labels_==1], c2) \n",
        "\n",
        "print('Mean Squared Error.: {0:2.2f}% et {1:2.2f} %'.format(quad_dist1, quad_dist2))\n",
        "print('The \"Technologies\" variable is uniform distributed ')\n",
        "\n",
        "\n"
      ],
      "metadata": {
        "colab": {
          "base_uri": "https://localhost:8080/"
        },
        "id": "xAnavponT2W0",
        "outputId": "49a4bdc9-cccf-455d-9455-8f517840a053"
      },
      "execution_count": null,
      "outputs": [
        {
          "output_type": "stream",
          "name": "stdout",
          "text": [
            "Mean Squared Error.: 16.72% et 27.81 %\n",
            "The \"Technologies\" variable is uniform distributed \n"
          ]
        }
      ]
    },
    {
      "cell_type": "markdown",
      "source": [
        "9) Réaliser la prédiction des métiers manquants dans la base de données par l'algorithme de votre choix\n",
        "* Justifier la performance de votre algorithme grace à une métrique.\n",
        "* Interpréter votre resultat.\n"
      ],
      "metadata": {
        "id": "3IgJMsKh5ij0"
      }
    },
    {
      "cell_type": "code",
      "source": [
        "from sklearn.model_selection import train_test_split\n",
        "from sklearn.pipeline import Pipeline\n",
        "from sklearn.impute import SimpleImputer\n",
        "from sklearn.preprocessing import  OneHotEncoder, StandardScaler, LabelEncoder\n",
        "from sklearn.compose import ColumnTransformer\n",
        "from sklearn.linear_model import LogisticRegression\n",
        "from sklearn.metrics import accuracy_score, f1_score, ConfusionMatrixDisplay, RocCurveDisplay\n",
        "\n",
        "# Separate target variable Y from features X\n",
        "print(\"Separating labels from features...\")\n",
        "features_list = [\"Experience\", \"Technologies\", \"Diplome\"]\n",
        "target_variable = \"Metier\"\n",
        "\n",
        "X = df2.loc[:,features_list]\n",
        "Y = df2.loc[:,target_variable]\n",
        "\n",
        "print('Y : ')\n",
        "print(Y.head())\n",
        "print()\n",
        "print('X :')\n",
        "print(X.head())"
      ],
      "metadata": {
        "colab": {
          "base_uri": "https://localhost:8080/"
        },
        "id": "0992041nf8Dl",
        "outputId": "8d50fd16-fd6e-49b7-ae3d-7241538f60d6"
      },
      "execution_count": null,
      "outputs": [
        {
          "output_type": "stream",
          "name": "stdout",
          "text": [
            "Separating labels from features...\n",
            "Y : \n",
            "0    2\n",
            "1    0\n",
            "2    3\n",
            "3    2\n",
            "4    2\n",
            "Name: Metier, dtype: int64\n",
            "\n",
            "X :\n",
            "   Experience  Technologies  Diplome\n",
            "0         1.0            27        1\n",
            "1         3.0            34        1\n",
            "2         3.0            51        1\n",
            "3         1.5             2        1\n",
            "4         2.0            26        3\n"
          ]
        }
      ]
    },
    {
      "cell_type": "code",
      "source": [
        "# Automatically detect positions of numeric/categorical features\n",
        "idx = 0\n",
        "numeric_features = []\n",
        "numeric_indices = []\n",
        "categorical_features = []\n",
        "categorical_indices = []\n",
        "for i,t in X.dtypes.iteritems():\n",
        "    if ('float' in str(t)) or ('int' in str(t)) :\n",
        "        numeric_features.append(i)\n",
        "        numeric_indices.append(idx)\n",
        "    else :\n",
        "        categorical_features.append(i)\n",
        "        categorical_indices.append(idx)\n",
        "\n",
        "    idx = idx + 1\n",
        "\n",
        "print('Found numeric features ', numeric_features,' at positions ', numeric_indices)\n",
        "print('Found categorical features ', categorical_features,' at positions ', categorical_indices)"
      ],
      "metadata": {
        "colab": {
          "base_uri": "https://localhost:8080/"
        },
        "id": "NpgDuLxW4jvu",
        "outputId": "2480ee1d-6412-4ce8-cae1-e1bc7d01a95a"
      },
      "execution_count": null,
      "outputs": [
        {
          "output_type": "stream",
          "name": "stdout",
          "text": [
            "Found numeric features  ['Experience', 'Technologies', 'Diplome']  at positions  [0, 1, 2]\n",
            "Found categorical features  []  at positions  []\n"
          ]
        }
      ]
    },
    {
      "cell_type": "code",
      "source": [
        "# Divide dataset Train set & Test set \n",
        "print(\"Dividing into train and test sets...\")\n",
        "X_train, X_test, Y_train, Y_test = train_test_split(X, Y, test_size=0.2, random_state=0, stratify = Y)\n"
      ],
      "metadata": {
        "colab": {
          "base_uri": "https://localhost:8080/"
        },
        "id": "4tSFM_ExgH0U",
        "outputId": "98c8b6a9-3111-4209-ed53-4be4dc540c85"
      },
      "execution_count": null,
      "outputs": [
        {
          "output_type": "stream",
          "name": "stdout",
          "text": [
            "Dividing into train and test sets...\n"
          ]
        }
      ]
    },
    {
      "cell_type": "code",
      "source": [
        "# numeric transformation \n",
        "numeric_transformer = Pipeline(\n",
        "    steps=[\n",
        "        (\"num_imputer\", SimpleImputer(strategy=\"mean\")),\n",
        "        (\"num_scaler\", StandardScaler())\n",
        "    ]\n",
        ")\n",
        "\n",
        "# OHE / dummyfication\n",
        "categorical_transformer = OneHotEncoder(drop='first')\n",
        "\n",
        "preprocessor = ColumnTransformer(\n",
        "    transformers=[\n",
        "        ('cat', categorical_transformer, categorical_indices),    \n",
        "        ('num', numeric_transformer, numeric_indices)\n",
        "        ]\n",
        "    )\n",
        "\n",
        "X_train = preprocessor.fit_transform(X_train)\n",
        "print(X_train[0:5,:])\n",
        "\n",
        "# Label encoding\n",
        "print(\"Encoding labels...\")\n",
        "print(Y_train.head())\n",
        "encoder = LabelEncoder()\n",
        "Y_train = encoder.fit_transform(Y_train)\n",
        "print(Y_train[0:5])"
      ],
      "metadata": {
        "colab": {
          "base_uri": "https://localhost:8080/"
        },
        "id": "1bOTXg0yhyT_",
        "outputId": "c652a95b-d9bf-45db-963c-5dfdd9b33a7e"
      },
      "execution_count": null,
      "outputs": [
        {
          "output_type": "stream",
          "name": "stdout",
          "text": [
            "[[ 0.44931561  0.52958506 -1.4282129 ]\n",
            " [ 0.26214147  0.70601878 -0.42892017]\n",
            " [-0.67372922 -1.76405333  0.57037257]\n",
            " [-0.67372922 -1.23475217 -0.42892017]\n",
            " [-1.04807749  1.11769747 -1.4282129 ]]\n",
            "Encoding labels...\n",
            "3146    2\n",
            "906     2\n",
            "833     1\n",
            "7366    2\n",
            "3376    2\n",
            "Name: Metier, dtype: int64\n",
            "[2 2 1 2 2]\n"
          ]
        }
      ]
    },
    {
      "cell_type": "code",
      "source": [
        "# Train model\n",
        "print(\"Train model...\")\n",
        "classifier = LogisticRegression()\n",
        "classifier.fit(X_train, Y_train)\n"
      ],
      "metadata": {
        "colab": {
          "base_uri": "https://localhost:8080/"
        },
        "id": "m_9PRwe_jTae",
        "outputId": "b9c92f80-311f-477b-c17d-1350c909b06c"
      },
      "execution_count": null,
      "outputs": [
        {
          "output_type": "stream",
          "name": "stdout",
          "text": [
            "Train model...\n"
          ]
        },
        {
          "output_type": "execute_result",
          "data": {
            "text/plain": [
              "LogisticRegression()"
            ]
          },
          "metadata": {},
          "execution_count": 21
        }
      ]
    },
    {
      "cell_type": "code",
      "source": [
        "# Predictions on training set\n",
        "print(\"Predictions on training set...\")\n",
        "Y_train_pred = classifier.predict(X_train)\n",
        "print(Y_train_pred)\n",
        "print()"
      ],
      "metadata": {
        "colab": {
          "base_uri": "https://localhost:8080/"
        },
        "id": "xpfMlSHUjYNh",
        "outputId": "d136530a-bb85-47f7-ece4-f13b59dc26ed"
      },
      "execution_count": null,
      "outputs": [
        {
          "output_type": "stream",
          "name": "stdout",
          "text": [
            "Predictions on training set...\n",
            "[2 2 1 ... 2 2 2]\n",
            "\n"
          ]
        }
      ]
    },
    {
      "cell_type": "code",
      "source": [
        "# Encoding categorical features and standardizing numerical features\n",
        "print(X_test.head())\n",
        "X_test = preprocessor.transform(X_test)\n",
        "print(X_test[0:5,:])\n",
        "\n",
        "# Label encoding\n",
        "print(\"Encoding labels...\")\n",
        "print(Y_test[0:5])\n",
        "Y_test = encoder.transform(Y_test)\n",
        "print(Y_test[0:5])"
      ],
      "metadata": {
        "colab": {
          "base_uri": "https://localhost:8080/"
        },
        "id": "wKmNkP19jaxe",
        "outputId": "4829ae45-e385-46ec-b79a-a6e769a9a6fc"
      },
      "execution_count": null,
      "outputs": [
        {
          "output_type": "stream",
          "name": "stdout",
          "text": [
            "      Experience  Technologies  Diplome\n",
            "1815         3.5            26        1\n",
            "8076         2.5            52        1\n",
            "6808         0.5            47        1\n",
            "4377         2.5            35        1\n",
            "2278         3.0            50        1\n",
            "[[ 0.26214147 -0.23496107 -0.42892017]\n",
            " [-0.11220681  1.29413119 -0.42892017]\n",
            " [-0.86090336  1.00007498 -0.42892017]\n",
            " [-0.11220681  0.29434009 -0.42892017]\n",
            " [ 0.07496733  1.17650871 -0.42892017]]\n",
            "Encoding labels...\n",
            "1815    3\n",
            "8076    3\n",
            "6808    2\n",
            "4377    3\n",
            "2278    2\n",
            "Name: Metier, dtype: int64\n",
            "[3 3 2 3 2]\n"
          ]
        }
      ]
    },
    {
      "cell_type": "code",
      "source": [
        "# Predictions on test set\n",
        "print(\"Predictions on test set...\")\n",
        "Y_test_pred = classifier.predict(X_test)\n",
        "print(Y_test_pred)"
      ],
      "metadata": {
        "colab": {
          "base_uri": "https://localhost:8080/"
        },
        "id": "GQhFSue3jdma",
        "outputId": "e404771b-2391-480c-ddec-2994ba0e3716"
      },
      "execution_count": null,
      "outputs": [
        {
          "output_type": "stream",
          "name": "stdout",
          "text": [
            "Predictions on test set...\n",
            "[2 2 2 ... 2 2 1]\n"
          ]
        }
      ]
    },
    {
      "cell_type": "code",
      "source": [
        "# Print scores\n",
        "print(\"accuracy on training set : \", accuracy_score(Y_train, Y_train_pred))\n",
        "print(\"accuracy on test set : \", accuracy_score(Y_test, Y_test_pred))"
      ],
      "metadata": {
        "colab": {
          "base_uri": "https://localhost:8080/"
        },
        "id": "ta4HN-SVjfty",
        "outputId": "ad8a42ca-c01b-4ddb-add9-0cf64b9602b8"
      },
      "execution_count": null,
      "outputs": [
        {
          "output_type": "stream",
          "name": "stdout",
          "text": [
            "accuracy on training set :  0.4542726679712981\n",
            "accuracy on test set :  0.45644235785080856\n"
          ]
        }
      ]
    },
    {
      "cell_type": "markdown",
      "source": [
        "The accuracy in the both set are small than 50% , so the model results predection for the Metier varibale are not relevant. \n"
      ],
      "metadata": {
        "id": "--ncnOON8anW"
      }
    }
  ],
  "metadata": {
    "kernelspec": {
      "display_name": "Python 3",
      "language": "python",
      "name": "python3"
    },
    "language_info": {
      "codemirror_mode": {
        "name": "ipython",
        "version": 3
      },
      "file_extension": ".py",
      "mimetype": "text/x-python",
      "name": "python",
      "nbconvert_exporter": "python",
      "pygments_lexer": "ipython3",
      "version": "3.9.5"
    },
    "colab": {
      "name": "Test_Technique_ML.ipynb",
      "provenance": [],
      "collapsed_sections": []
    }
  },
  "nbformat": 4,
  "nbformat_minor": 0
}